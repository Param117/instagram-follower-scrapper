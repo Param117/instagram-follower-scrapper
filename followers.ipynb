{
 "cells": [
  {
   "cell_type": "code",
   "execution_count": 54,
   "id": "7e17273c-b87f-4059-ae43-def2bb274c76",
   "metadata": {},
   "outputs": [],
   "source": [
    "from selenium import webdriver\n",
    "from selenium.webdriver.common.keys import Keys\n",
    "from selenium.webdriver.support import expected_conditions as EC\n",
    "from selenium.webdriver.common.by import By\n",
    "from selenium.webdriver.support.wait import WebDriverWait\n",
    "from selenium.webdriver.chrome.service import Service\n",
    "import os\n",
    "import wget"
   ]
  },
  {
   "cell_type": "code",
   "execution_count": 55,
   "id": "92294c83-85bc-4e3c-92cc-2db37c5599fe",
   "metadata": {},
   "outputs": [],
   "source": [
    "driver_path = 'path'                                                 #define path of your webdriver\n",
    "service = Service(driver_path)\n",
    "driver = webdriver.Chrome(service=service)\n",
    "\n",
    "\n",
    "driver.get(\"https://www.instagram.com\")\n",
    "\n",
    "username = WebDriverWait(driver, 10).until(EC.element_to_be_clickable((By.CSS_SELECTOR, \"input[name='username']\")))\n",
    "password = WebDriverWait(driver, 10).until(EC.element_to_be_clickable((By.CSS_SELECTOR, \"input[name='password']\")))\n",
    "\n",
    "username.clear()\n",
    "username.send_keys(\"\")                                                # input USERNAME between brackets(paranthesis)\n",
    "password.clear()\n",
    "password.send_keys(\"\")                                                # input PASSWORD between brackets(paranthesis)\n",
    "\n",
    "button = WebDriverWait(driver, 2).until(EC.element_to_be_clickable((By.CSS_SELECTOR, \"button[type='submit']\"))).click()"
   ]
  },
  {
   "cell_type": "code",
   "execution_count": 56,
   "id": "8a7e08e0-098b-4d9d-9e4c-6ec6f4ae233f",
   "metadata": {},
   "outputs": [],
   "source": [
    "\n",
    "css_button = WebDriverWait(driver, 2).until(\n",
    "    EC.element_to_be_clickable((By.CSS_SELECTOR, \"div.x1i10hfl.xjqpnuy.xa49m3k.xqeqjp1.x2hbi6w.xdl72j9.x2lah0s.xe8uvvx.xdj266r.x11i5rnm.xat24cr.x1mh8g0r.x2lwn1j.xeuugli.x1hl2dhg.xggy1nq.x1ja2u2z.x1t137rt.x1q0g3np.x1lku1pv.x1a2a7pz.x6s0dn4.xjyslct.x1ejq31n.xd10rxx.x1sy0etr.x17r0tee.x9f619.x1ypdohk.x1f6kntn.xwhw2v2.xl56j7k.x17ydfre.x2b8uid.xlyipyv.x87ps6o.x14atkfc.xcdnw81.x1i0vuye.xjbqb8w.xm3z3ea.x1x8b98j.x131883w.x16mih1h.x972fbf.xcfux6l.x1qhh985.xm0m39n.xt0psk2.xt7dq6l.xexx8yu.x4uap5.x18d9i69.xkhd6sd.x1n2onr6.x1n5bzlp.x173jzuc.x1yc6y37\"))\n",
    ").click()\n"
   ]
  },
  {
   "cell_type": "code",
   "execution_count": 57,
   "id": "f7cedb65-d69b-4530-947b-276f65ac112e",
   "metadata": {},
   "outputs": [],
   "source": [
    "\n",
    "css_button = WebDriverWait(driver, 2).until(\n",
    "    EC.element_to_be_clickable((By.CSS_SELECTOR, \"button._a9--._ap36._a9_1\"))\n",
    ").click()\n"
   ]
  },
  {
   "cell_type": "code",
   "execution_count": 58,
   "id": "82b9d546-700e-47cf-b06d-04a79df131cb",
   "metadata": {},
   "outputs": [
    {
     "name": "stdout",
     "output_type": "stream",
     "text": [
      "id of the person data.science.beginner\n"
     ]
    }
   ],
   "source": [
    "import time\n",
    "\n",
    "name = input(\"id of the person\")\n",
    "driver.get(f\"https://www.instagram.com/{name}/followers/\")\n",
    " \n",
    "# Wait for 5 seconds\n",
    "time.sleep(5)"
   ]
  },
  {
   "cell_type": "code",
   "execution_count": 59,
   "id": "0fee82d2-00e2-4cdb-a349-672e77636011",
   "metadata": {},
   "outputs": [],
   "source": [
    "element = WebDriverWait(driver, 10).until(EC.element_to_be_clickable((By.CSS_SELECTOR, 'a.x1i10hfl.xjbqb8w.x1ejq31n.xd10rxx.x1sy0etr.x17r0tee.x972fbf.xcfux6l.x1qhh985.xm0m39n.x9f619.x1ypdohk.xt0psk2.xe8uvvx.xdj266r.x11i5rnm.xat24cr.x1mh8g0r.xexx8yu.x4uap5.x18d9i69.xkhd6sd.x16tdsg8.x1hl2dhg.xggy1nq.x1a2a7pz._alvs._a6hd')))\n",
    "element.click()"
   ]
  },
  {
   "cell_type": "code",
   "execution_count": 17,
   "id": "4a60de79-74fa-4685-a840-bb2b247a4568",
   "metadata": {},
   "outputs": [],
   "source": []
  },
  {
   "cell_type": "code",
   "execution_count": null,
   "id": "f2395108-33d3-4ce4-8fe4-2b357093c2d0",
   "metadata": {},
   "outputs": [],
   "source": [
    "def scrape_and_append_usernames(index):\n",
    "    try:\n",
    "        wait = WebDriverWait(driver, 10)\n",
    "        \n",
    "        # Update the XPath with the current index\n",
    "        xpath = f\"/html/body/div[6]/div[2]/div/div/div[1]/div/div[2]/div/div/div/div/div[2]/div/div/div[3]/div[1]/div/div[{index}]/div/div/div/div[2]/div/div/div/div/div/a/div/div/span\"\n",
    "\n",
    "        usernames_elements = wait.until(\n",
    "            EC.presence_of_all_elements_located(\n",
    "                (By.XPATH, xpath)))\n",
    "        print(f\"Usernames elements located for index {index}\")\n",
    "\n",
    "        usernames = [username.text for username in usernames_elements]\n",
    "        print('Number of scraped usernames:', len(usernames))\n",
    "\n",
    "        path = r'PATH'                                                    # specify path where you need to save your file\n",
    "        file_path = os.path.join(path, 'followers.txt')\n",
    "        with open(file_path, 'a') as f:  # Open file in append mode\n",
    "            for username in usernames:\n",
    "                f.write(username + \"\\n\")\n",
    "        print(f\"Usernames appended to {file_path}\")\n",
    "\n",
    "    except TimeoutException as e:\n",
    "        print(f\"TimeoutException: {e}\")\n",
    "\n",
    "number_of_iterations = 10000\n",
    "\n",
    "for i in range(1, number_of_iterations + 1):\n",
    "    scrape_and_append_usernames(i)\n"
   ]
  },
  {
   "cell_type": "code",
   "execution_count": null,
   "id": "040596d0-1988-44fd-8d0d-38cdb156f739",
   "metadata": {},
   "outputs": [],
   "source": []
  }
 ],
 "metadata": {
  "kernelspec": {
   "display_name": "Python 3 (ipykernel)",
   "language": "python",
   "name": "python3"
  },
  "language_info": {
   "codemirror_mode": {
    "name": "ipython",
    "version": 3
   },
   "file_extension": ".py",
   "mimetype": "text/x-python",
   "name": "python",
   "nbconvert_exporter": "python",
   "pygments_lexer": "ipython3",
   "version": "3.11.7"
  }
 },
 "nbformat": 4,
 "nbformat_minor": 5
}
